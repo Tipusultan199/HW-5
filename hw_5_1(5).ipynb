{
  "nbformat": 4,
  "nbformat_minor": 0,
  "metadata": {
    "colab": {
      "provenance": []
    },
    "kernelspec": {
      "name": "python3",
      "display_name": "Python 3"
    },
    "language_info": {
      "name": "python"
    }
  },
  "cells": [
    {
      "cell_type": "code",
      "execution_count": 2,
      "metadata": {
        "colab": {
          "base_uri": "https://localhost:8080/"
        },
        "id": "LWibIURYxiFG",
        "outputId": "6b1ca379-3b2b-4d4b-f614-d647eec51aa3"
      },
      "outputs": [
        {
          "output_type": "stream",
          "name": "stdout",
          "text": [
            "Transformation matrix of the end-effector relative to the base:\n",
            "[[ 0.7875689   0.27394008  0.55198918 -0.07734889]\n",
            " [-0.61544643  0.30460599  0.72693939  0.81846667]\n",
            " [ 0.03099863 -0.91223463  0.40849365  0.56866807]\n",
            " [ 0.          0.          0.          1.        ]]\n"
          ]
        }
      ],
      "source": [
        "import numpy as np\n",
        "from scipy.linalg import expm\n",
        "\n",
        "def skew_symmetric(v):\n",
        "\n",
        "    return np.array([[0, -v[2], v[1]],\n",
        "                     [v[2], 0, -v[0]],\n",
        "                     [-v[1], v[0], 0]])\n",
        "\n",
        "def screw_to_transform(S, theta):\n",
        "\n",
        "    omega = S[:3]\n",
        "    v = S[3:]\n",
        "    omega_hat = skew_symmetric(omega)\n",
        "    R = expm(omega_hat * theta)\n",
        "    p = (np.eye(3) - R).dot(np.cross(omega, v)) + np.outer(omega, omega) @ v * theta\n",
        "    T = np.eye(4)\n",
        "    T[:3, :3] = R\n",
        "    T[:3, 3] = p\n",
        "    return T\n",
        "\n",
        "d1 = 0.2\n",
        "d2 = 0.3\n",
        "L = 1.2\n",
        "S1 = np.array([0, 0, 1, 0, 0, 0])\n",
        "S2 = np.array([0, 1, 0, -d1, 0, 0])\n",
        "S3 = np.array([0, 1, 0, -d1 - d2, 0, 0])\n",
        "S4 = np.array([1, 0, 0, 0, -d1 - d2, 0])\n",
        "S5 = np.array([0, 1, 0, -d1 - d2, 0, 0])\n",
        "S6 = np.array([0, 0, 1, 0, 0, 0])\n",
        "\n",
        "\n",
        "theta = [np.pi/6, -np.pi/4, np.pi/3, -np.pi/6, np.pi/4, -np.pi/3]\n",
        "\n",
        "\n",
        "M = np.array([\n",
        "    [1, 0, 0, 0],\n",
        "    [0, 1, 0, 0],\n",
        "    [0, 0, 1, L],\n",
        "    [0, 0, 0, 1]\n",
        "])\n",
        "\n",
        "\n",
        "T = np.eye(4)\n",
        "for S, angle in zip([S1, S2, S3, S4, S5, S6], theta):\n",
        "    T = T @ screw_to_transform(S, angle)\n",
        "\n",
        "T_end_effector = T @ M\n",
        "print(\"Transformation matrix of the end-effector relative to the base:\")\n",
        "print(T_end_effector)\n"
      ]
    }
  ]
}