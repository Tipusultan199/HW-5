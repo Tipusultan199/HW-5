{
  "nbformat": 4,
  "nbformat_minor": 0,
  "metadata": {
    "colab": {
      "provenance": []
    },
    "kernelspec": {
      "name": "python3",
      "display_name": "Python 3"
    },
    "language_info": {
      "name": "python"
    }
  },
  "cells": [
    {
      "cell_type": "code",
      "execution_count": 2,
      "metadata": {
        "colab": {
          "base_uri": "https://localhost:8080/"
        },
        "id": "FNc72C8avhYQ",
        "outputId": "d528f2f6-2353-4e76-9c1b-a3ced17f5f33"
      },
      "outputs": [
        {
          "output_type": "stream",
          "name": "stdout",
          "text": [
            "Transformation matrix of the end-effector relative to the base:\n",
            "[[1.  0.  0.  0. ]\n",
            " [0.  1.  0.  0. ]\n",
            " [0.  0.  1.  1.2]\n",
            " [0.  0.  0.  1. ]]\n"
          ]
        }
      ],
      "source": [
        "import numpy as np\n",
        "from scipy.linalg import expm\n",
        "\n",
        "def skew_symmetric(v):\n",
        "    \"\"\" Return the skew symmetric matrix of a vector. \"\"\"\n",
        "    return np.array([[0, -v[2], v[1]],\n",
        "                     [v[2], 0, -v[0]],\n",
        "                     [-v[1], v[0], 0]])\n",
        "\n",
        "def screw_to_transform(S, theta):\n",
        "    \"\"\" Compute the transformation matrix for a screw axis S and angle theta. \"\"\"\n",
        "    omega = S[:3]\n",
        "    v = S[3:]\n",
        "    omega_hat = skew_symmetric(omega)\n",
        "    R = expm(omega_hat * theta)\n",
        "    p = (np.eye(3) - R).dot(np.cross(omega, v)) + np.outer(omega, omega) @ v * theta\n",
        "    T = np.eye(4)\n",
        "    T[:3, :3] = R\n",
        "    T[:3, 3] = p\n",
        "    return T\n",
        "\n",
        "# Define example values for d1, d2, and L based on assumed distances\n",
        "d1 = 0.2  # distance from joint 1 to joint 2 in meters (example value)\n",
        "d2 = 0.3  # distance from joint 2 to joint 3 in meters (example value)\n",
        "L = 1.2   # distance of the end-effector from the base along the z-axis in zero position (example value)\n",
        "\n",
        "# Define the screw axes with the defined distances\n",
        "S1 = np.array([0, 0, 1, 0, 0, 0])\n",
        "S2 = np.array([0, 1, 0, -d1, 0, 0])\n",
        "S3 = np.array([0, 1, 0, -d1 - d2, 0, 0])\n",
        "S4 = np.array([1, 0, 0, 0, -d1 - d2, 0])\n",
        "S5 = np.array([0, 1, 0, -d1 - d2, 0, 0])\n",
        "S6 = np.array([0, 0, 1, 0, 0, 0])\n",
        "\n",
        "# Define joint angles (example values in radians)\n",
        "theta = [0, 0, 0, 0, 0, 0]  # Zero configuration\n",
        "\n",
        "# Define the home configuration matrix M with the given L value\n",
        "M = np.array([\n",
        "    [1, 0, 0, 0],\n",
        "    [0, 1, 0, 0],\n",
        "    [0, 0, 1, L],\n",
        "    [0, 0, 0, 1]\n",
        "])\n",
        "\n",
        "# Compute forward kinematics\n",
        "T = np.eye(4)\n",
        "for S, angle in zip([S1, S2, S3, S4, S5, S6], theta):\n",
        "    T = T @ screw_to_transform(S, angle)\n",
        "\n",
        "# Final transformation matrix of the end-effector\n",
        "T_end_effector = T @ M\n",
        "print(\"Transformation matrix of the end-effector relative to the base:\")\n",
        "print(T_end_effector)\n"
      ]
    }
  ]
}